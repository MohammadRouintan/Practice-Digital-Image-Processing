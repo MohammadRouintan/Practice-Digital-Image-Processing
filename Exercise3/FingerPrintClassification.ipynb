{
 "cells": [
  {
   "attachments": {},
   "cell_type": "markdown",
   "metadata": {},
   "source": [
    "# FingerPrint Classification\n",
    "__Author__ : Mohammad Rouintan , 400222042\n",
    "\n",
    "__Course__ : Undergraduate Digital Image Processing Course"
   ]
  },
  {
   "cell_type": "code",
   "execution_count": 351,
   "metadata": {},
   "outputs": [],
   "source": [
    "import numpy as np\n",
    "import cv2\n",
    "import matplotlib.pyplot as plt\n",
    "from skimage.morphology import skeletonize\n",
    "import glob\n",
    "import os"
   ]
  },
  {
   "cell_type": "code",
   "execution_count": 413,
   "metadata": {},
   "outputs": [],
   "source": [
    "path = '/Users/mohammad/Downloads/NISTSpecialDatabase4GrayScaleImagesofFIGS/sd04/png_txt'\n",
    "imgs = glob.glob(path + '/**/*.png', recursive=True)\n",
    "txts = glob.glob(path + '/**/*.txt', recursive=True)"
   ]
  },
  {
   "cell_type": "code",
   "execution_count": 414,
   "metadata": {},
   "outputs": [],
   "source": [
    "def pre_process(img):\n",
    "    # Read Image\n",
    "    img_gray = cv2.imread(img, cv2.IMREAD_GRAYSCALE)\n",
    "    img_gray = cv2.GaussianBlur(img_gray, (7, 7), 0)\n",
    "\n",
    "    # Convert To Binary\n",
    "    img_binary = cv2.adaptiveThreshold(img_gray, 255, cv2.ADAPTIVE_THRESH_GAUSSIAN_C, cv2.THRESH_BINARY, 13, 4)\n",
    "    \n",
    "    # Morphological preprocess\n",
    "    B = np.ones((3, 3), np.uint8)\n",
    "    img_morph = cv2.morphologyEx(cv2.morphologyEx(img_binary, cv2.MORPH_OPEN, B), cv2.MORPH_CLOSE, B)\n",
    "\n",
    "\n",
    "    kernel = cv2.getStructuringElement(cv2.MORPH_ELLIPSE, (3, 3))\n",
    "    processed_image = cv2.morphologyEx(img_morph, cv2.MORPH_OPEN, kernel)\n",
    "\n",
    "    return processed_image"
   ]
  },
  {
   "cell_type": "code",
   "execution_count": 415,
   "metadata": {},
   "outputs": [],
   "source": [
    "p_imgs = []\n",
    "for i in range(len(imgs)):\n",
    "    img = pre_process(imgs[i])\n",
    "    p_imgs.append(img)"
   ]
  },
  {
   "cell_type": "code",
   "execution_count": 425,
   "metadata": {},
   "outputs": [],
   "source": [
    "archs, tented_archs, left_loops, right_loops, whorls = [], [], [], [], []\n",
    "for i in range(1000, len(txts)-1000):\n",
    "    f = open(txts[i], 'r')\n",
    "    f.readline()\n",
    "    char = f.readline()[-2]\n",
    "    if char == 'A' and len(archs) < 20:\n",
    "        archs.append(p_imgs[i])\n",
    "    elif char == 'T' and len(tented_archs) < 20:\n",
    "        tented_archs.append(p_imgs[i])\n",
    "    elif char == 'L' and len(left_loops) < 20:\n",
    "        left_loops.append(p_imgs[i])\n",
    "    elif char == 'R' and len(right_loops) < 20:\n",
    "        right_loops.append(p_imgs[i])\n",
    "    elif char == 'W' and len(whorls) < 20:\n",
    "        whorls.append(p_imgs[i])"
   ]
  },
  {
   "cell_type": "code",
   "execution_count": 131,
   "metadata": {},
   "outputs": [],
   "source": [
    "def find_gradient(img):\n",
    "    img = cv2.resize(img, (50, 50))\n",
    "\n",
    "    gx = cv2.Sobel(img, cv2.CV_64F, 1, 0, ksize=3, scale=1, delta=0, borderType=cv2.BORDER_DEFAULT)\n",
    "    gy = cv2.Sobel(img, cv2.CV_64F, 0, 1, ksize=3, scale=1, delta=0, borderType=cv2.BORDER_DEFAULT) \n",
    "\n",
    "\n",
    "    # gradient_magnitude = np.sqrt(gx ** 2 + gy ** 2)\n",
    "    # gradient_theta = np.arctan((-2*gx*gy)/(gx ** 2 - gy ** 2))\n",
    "    # print(gradient_magnitude)\n",
    "    # print(gradient_theta)\n",
    "    gradient = np.sqrt(gy**2 + gx**2)\n",
    "    theta = np.arctan((-2*gx*gy)/(gx ** 2 - gy ** 2))\n",
    "    plt.figure(figsize=(7, 7))\n",
    "    plt.imshow(theta, cmap='gray')\n",
    "    plt.show()\n",
    "    plt.figure(figsize=(7, 7))\n",
    "    plt.imshow(gradient, cmap='gray')\n",
    "    plt.show()\n",
    "\n",
    "    # theta = cv2.resize(theta, (150, 150))\n",
    "    \n",
    "    plt.figure(figsize=(20, 10))\n",
    "    plt.imshow(img, cmap='gray')\n",
    "    plt.quiver(range(img.shape[0]), range(img.shape[1]), gx, gy, color='green',scale_units='width')\n",
    "    plt.show()"
   ]
  },
  {
   "cell_type": "code",
   "execution_count": 417,
   "metadata": {},
   "outputs": [],
   "source": [
    "from skimage.feature import hog\n",
    "def get_hog(img):\n",
    "    hog_features = hog(img, orientations=9, pixels_per_cell=(8, 8), cells_per_block=(2, 2), block_norm='L2-Hys')\n",
    "    return hog_features"
   ]
  },
  {
   "cell_type": "code",
   "execution_count": 418,
   "metadata": {},
   "outputs": [],
   "source": [
    "h_imgs = []\n",
    "for img in p_imgs:\n",
    "    h_imgs.append(get_hog(img))"
   ]
  },
  {
   "cell_type": "code",
   "execution_count": 426,
   "metadata": {},
   "outputs": [],
   "source": [
    "h_archs = [get_hog(item) for item in archs]\n",
    "h_tented_archs = [get_hog(item) for item in tented_archs]\n",
    "h_left_loops = [get_hog(item) for item in left_loops]\n",
    "h_right_loops = [get_hog(item) for item in right_loops]\n",
    "h_whorls = [get_hog(item) for item in whorls]"
   ]
  },
  {
   "cell_type": "code",
   "execution_count": 420,
   "metadata": {},
   "outputs": [],
   "source": [
    "from scipy.spatial import distance"
   ]
  },
  {
   "cell_type": "code",
   "execution_count": 421,
   "metadata": {},
   "outputs": [],
   "source": [
    "def classifier(img):\n",
    "    maximum = 0\n",
    "    category = None\n",
    "\n",
    "    for arch in h_archs:\n",
    "        similarity = 1 - distance.cosine(img, arch)\n",
    "        if similarity >= maximum:\n",
    "            maximum = similarity\n",
    "            category = 'A'\n",
    "\n",
    "    for tented_arch in h_tented_archs:\n",
    "        similarity = 1 - distance.cosine(img, tented_arch)\n",
    "        if similarity >= maximum:\n",
    "            maximum = similarity\n",
    "            category = 'T'\n",
    "\n",
    "\n",
    "    for left_loop in h_left_loops:\n",
    "        similarity = 1 - distance.cosine(img, left_loop)\n",
    "        if similarity >= maximum:\n",
    "            maximum = similarity\n",
    "            category = 'L'\n",
    "\n",
    "    for right_loop in h_right_loops:\n",
    "        similarity = 1 - distance.cosine(img, right_loop)\n",
    "        if similarity >= maximum:\n",
    "            maximum = similarity\n",
    "            category = 'R'\n",
    "\n",
    "    for whorl in h_whorls:\n",
    "        similarity = 1 - distance.cosine(img, whorl)\n",
    "        if similarity >= maximum:\n",
    "            maximum = similarity\n",
    "            category = 'W'\n",
    "\n",
    "    return category"
   ]
  },
  {
   "cell_type": "code",
   "execution_count": 427,
   "metadata": {},
   "outputs": [],
   "source": [
    "labels = []\n",
    "for img in h_imgs:\n",
    "    labels.append(classifier(img))"
   ]
  },
  {
   "cell_type": "code",
   "execution_count": 423,
   "metadata": {},
   "outputs": [],
   "source": [
    "true_labels = []\n",
    "for txt in txts:\n",
    "    f = open(txt, 'r')\n",
    "    f.readline()\n",
    "    true_labels.append(f.readline()[-2])"
   ]
  },
  {
   "cell_type": "code",
   "execution_count": 428,
   "metadata": {},
   "outputs": [
    {
     "name": "stdout",
     "output_type": "stream",
     "text": [
      "['L', 'T', 'R', 'R', 'W', 'R', 'T', 'L', 'R', 'L', 'L', 'L', 'T', 'W', 'L', 'W', 'R', 'A', 'W', 'T', 'T', 'L', 'L', 'W', 'R', 'R', 'L', 'L', 'W', 'R', 'A', 'L', 'W', 'R', 'A', 'L', 'W', 'R', 'L', 'L', 'R', 'T', 'L', 'W', 'W', 'W', 'R', 'L', 'A', 'W', 'L', 'L', 'T', 'W', 'W', 'T', 'R', 'A', 'R', 'L', 'T', 'W', 'W', 'L', 'W', 'T', 'W', 'T', 'T', 'T', 'W', 'L', 'R', 'W', 'W', 'T', 'W', 'W', 'W', 'W', 'W', 'T', 'L', 'L', 'L', 'R', 'W', 'L', 'L', 'W', 'L', 'T', 'L', 'W', 'W', 'A', 'R', 'T', 'L', 'R', 'T', 'L', 'T', 'W', 'L', 'A', 'R', 'L', 'W', 'R', 'T', 'L', 'W', 'L', 'W', 'L', 'L', 'T', 'R', 'T', 'L', 'W', 'L', 'R', 'L', 'R', 'L', 'T', 'W', 'T', 'T', 'L', 'R', 'R', 'T', 'R', 'R', 'L', 'L', 'T', 'R', 'L', 'R', 'T', 'W', 'W', 'L', 'R', 'A', 'T', 'A', 'A', 'L', 'A', 'W', 'A', 'W', 'L', 'T', 'T', 'R', 'R', 'T', 'L', 'T', 'W', 'L', 'W', 'W', 'T', 'R', 'W', 'L', 'L', 'W', 'W', 'L', 'T', 'R', 'T', 'R', 'T', 'W', 'L', 'W', 'L', 'W', 'L', 'T', 'L', 'R', 'L', 'W', 'L', 'T', 'R', 'L', 'R', 'L', 'T', 'T', 'W', 'W', 'L', 'L', 'R', 'W', 'W', 'W', 'W', 'R', 'R', 'R', 'L', 'L', 'W', 'W', 'R', 'A', 'L', 'L', 'T', 'T', 'R', 'T', 'W', 'L', 'T', 'R', 'W', 'W', 'W', 'T', 'L', 'R', 'T', 'W', 'W', 'R', 'T', 'L', 'R', 'W', 'W', 'R', 'R', 'W', 'L', 'R', 'R', 'A', 'W', 'T', 'L', 'L', 'L', 'T', 'W', 'R', 'L', 'L', 'W', 'R', 'W', 'T', 'T', 'L', 'A', 'W', 'T', 'A', 'W', 'W', 'W', 'L', 'L', 'T', 'W', 'L', 'R', 'R', 'T', 'L', 'A', 'W', 'W', 'W', 'L', 'W', 'W', 'W', 'W', 'R', 'R', 'T', 'T', 'W', 'T', 'W', 'R', 'L', 'A', 'W', 'R', 'L', 'T', 'W', 'A', 'L', 'W', 'T', 'L', 'T', 'W', 'L', 'W', 'L', 'T', 'W', 'R', 'T', 'W', 'W', 'W', 'W', 'L', 'A', 'R', 'A', 'L', 'R', 'L', 'R', 'A', 'T', 'T', 'R', 'T', 'L', 'R', 'L', 'L', 'W', 'W', 'L', 'R', 'T', 'T', 'W', 'T', 'T', 'R', 'W', 'A', 'T', 'L', 'T', 'R', 'W', 'R', 'W', 'R', 'T', 'R', 'T', 'W', 'W', 'L', 'L', 'L', 'W', 'W', 'R', 'R', 'W', 'A', 'L', 'R', 'R', 'A', 'W', 'W', 'T', 'L', 'A', 'A', 'R', 'W', 'R', 'T', 'W', 'L', 'T', 'L', 'L', 'A', 'R', 'T', 'W', 'W', 'R', 'R', 'A', 'R', 'R', 'T', 'L', 'T', 'A', 'W', 'T', 'R', 'L', 'T', 'L', 'R', 'R', 'L', 'L', 'W', 'W', 'R', 'R', 'W', 'W', 'R', 'L', 'T', 'R', 'R', 'A', 'R', 'A', 'L', 'L', 'R', 'A', 'T', 'W', 'R', 'L', 'A', 'A', 'W', 'W', 'L', 'L', 'R', 'R', 'A', 'A', 'R', 'R', 'L', 'L', 'W', 'L', 'T', 'W', 'W', 'W', 'L', 'L', 'W', 'W', 'T', 'R', 'W', 'W', 'T', 'R', 'R', 'R', 'T', 'L', 'R', 'L', 'L', 'L', 'R', 'W', 'R', 'W', 'W', 'L', 'T', 'R', 'T', 'A', 'R', 'T', 'L', 'L', 'L', 'L', 'L', 'T', 'T', 'L', 'R', 'A', 'W', 'T', 'R', 'L', 'T', 'R', 'W', 'R', 'W', 'L', 'L', 'T', 'R', 'W', 'L', 'R', 'L', 'A', 'L', 'L', 'W', 'W', 'W', 'A', 'R', 'T', 'T', 'R', 'W', 'T', 'R', 'W', 'W', 'R', 'W', 'T', 'L', 'R', 'L', 'W', 'T', 'R', 'A', 'R', 'A', 'W', 'R', 'L', 'T', 'L', 'L', 'L', 'W', 'W', 'L', 'R', 'W', 'L', 'R', 'T', 'R', 'R', 'R', 'W', 'R', 'W', 'R', 'L', 'T', 'L', 'L', 'R', 'L', 'R', 'W', 'A', 'W', 'W', 'T', 'W', 'W', 'R', 'T', 'L', 'T', 'L', 'R', 'R', 'R', 'L', 'R', 'W', 'R', 'L', 'L', 'L', 'T', 'L', 'W', 'A', 'T', 'W', 'W', 'A', 'L', 'L', 'R', 'T', 'L', 'R', 'W', 'R', 'R', 'L', 'L', 'W', 'T', 'W', 'R', 'W', 'W', 'L', 'R', 'W', 'W', 'W', 'T', 'T', 'R', 'L', 'R', 'A', 'W', 'A', 'W', 'T', 'L', 'W', 'T', 'W', 'L', 'W', 'L', 'L', 'T', 'L', 'A', 'W', 'L', 'R', 'T', 'W', 'W', 'W', 'L', 'L', 'W', 'L', 'L', 'R', 'W', 'W', 'T', 'L', 'T', 'W', 'L', 'T', 'W', 'R', 'L', 'T', 'W', 'L', 'A', 'T', 'W', 'W', 'W', 'W', 'L', 'W', 'T', 'T', 'T', 'R', 'R', 'R', 'W', 'R', 'R', 'W', 'A', 'R', 'W', 'R', 'W', 'R', 'L', 'L', 'R', 'T', 'R', 'L', 'L', 'R', 'L', 'T', 'A', 'L', 'W', 'R', 'L', 'W', 'R', 'T', 'A', 'T', 'T', 'L', 'L', 'R', 'W', 'W', 'W', 'R', 'A', 'W', 'R', 'W', 'L', 'L', 'W', 'R', 'W', 'W', 'L', 'L', 'A', 'T', 'W', 'L', 'R', 'A', 'R', 'W', 'T', 'T', 'R', 'L', 'L', 'W', 'R', 'W', 'W', 'W', 'W', 'L', 'L', 'L', 'L', 'L', 'T', 'L', 'A', 'R', 'W', 'A', 'L', 'R', 'A', 'T', 'W', 'R', 'R', 'L', 'L', 'L', 'L', 'L', 'R', 'W', 'W', 'L', 'W', 'W', 'W', 'W', 'L', 'W', 'A', 'T', 'T', 'L', 'T', 'W', 'R', 'L', 'T', 'L', 'L', 'A', 'T', 'R', 'A', 'W', 'R', 'W', 'R', 'T', 'A', 'L', 'W', 'A', 'R', 'R', 'L', 'L', 'R', 'L', 'L', 'R', 'T', 'T', 'R', 'R', 'R', 'T', 'L', 'L', 'W', 'L', 'L', 'L', 'L', 'L', 'W', 'W', 'T', 'A', 'L', 'R', 'T', 'W', 'R', 'A', 'R', 'L', 'L', 'R', 'W', 'W', 'R', 'R', 'L', 'T', 'L', 'T', 'R', 'L', 'L', 'R', 'T', 'L', 'W', 'L', 'A', 'W', 'R', 'T', 'A', 'W', 'L', 'L', 'L', 'L', 'L', 'W', 'W', 'L', 'W', 'L', 'W', 'L', 'A', 'R', 'A', 'A', 'L', 'W', 'W', 'W', 'T', 'L', 'R', 'L', 'A', 'L', 'R', 'W', 'T', 'A', 'R', 'R', 'R', 'L', 'L', 'R', 'W', 'W', 'L', 'R', 'R', 'W', 'A', 'L', 'L', 'W', 'A', 'R', 'T', 'L', 'R', 'L', 'T', 'L', 'L', 'L', 'L', 'T', 'W', 'L', 'W', 'R', 'R', 'T', 'R', 'R', 'R', 'W', 'R', 'R', 'W', 'T', 'W', 'L', 'W', 'R', 'L', 'L', 'A', 'W', 'W', 'T', 'L', 'L', 'L', 'R', 'L', 'W', 'L', 'L', 'R', 'R', 'W', 'L', 'L', 'A', 'W', 'R', 'W', 'W', 'L', 'T', 'T', 'R', 'R', 'L', 'W', 'L', 'L', 'L', 'T', 'R', 'T', 'L', 'W', 'W', 'T', 'W', 'L', 'W', 'T', 'L', 'L', 'R', 'L', 'W', 'W', 'L', 'L', 'W', 'A', 'R', 'A', 'A', 'T', 'R', 'A', 'L', 'T', 'R', 'T', 'T', 'A', 'L', 'W', 'R', 'T', 'A', 'T', 'R', 'R', 'T', 'T', 'A', 'T', 'L', 'W', 'R', 'W', 'R', 'T', 'T', 'T', 'R', 'A', 'R', 'W', 'R', 'L', 'L', 'W', 'W', 'R', 'W', 'A', 'L', 'A', 'R', 'L', 'R', 'W', 'T', 'A', 'W', 'T', 'W', 'L', 'W', 'L', 'T', 'R', 'W', 'R', 'R', 'T', 'A', 'W', 'W', 'R', 'W', 'W', 'R', 'A', 'L', 'R', 'R', 'L', 'L', 'T', 'T', 'W', 'W', 'W', 'L', 'L', 'A', 'T', 'A', 'A', 'T', 'A', 'W', 'T', 'L', 'L', 'A', 'L', 'L', 'A', 'W', 'R', 'A', 'A', 'L', 'L', 'L', 'A', 'L', 'W', 'L', 'L', 'R', 'T', 'L', 'L', 'L', 'L', 'R', 'R', 'L', 'L', 'L', 'T', 'L', 'W', 'T', 'A', 'A', 'R', 'T', 'W', 'R', 'L', 'T', 'A', 'L', 'W', 'R', 'W', 'R', 'W', 'W', 'R', 'L', 'W', 'R', 'L', 'L', 'W', 'W', 'L', 'L', 'W', 'R', 'L', 'L', 'W', 'R', 'W', 'T', 'W', 'R', 'T', 'R', 'W', 'R', 'R', 'A', 'L', 'W', 'W', 'W', 'W', 'R', 'L', 'W', 'W', 'W', 'W', 'L', 'R', 'R', 'T', 'R', 'R', 'R', 'R', 'T', 'L', 'R', 'W', 'W', 'R', 'R', 'T', 'W', 'R', 'A', 'R', 'T', 'R', 'R', 'W', 'L', 'L', 'T', 'W', 'R', 'L', 'W', 'W', 'W', 'L', 'T', 'L', 'W', 'L', 'W', 'L', 'W', 'L', 'R', 'A', 'T', 'L', 'T', 'L', 'T', 'R', 'L', 'T', 'W', 'T', 'W', 'W', 'A', 'L', 'W', 'L', 'L', 'W', 'L', 'W', 'A', 'A', 'T', 'T', 'A', 'L', 'T', 'L', 'W', 'L', 'W', 'L', 'R', 'L', 'L', 'T', 'W', 'R', 'R', 'R', 'T', 'T', 'W', 'A', 'T', 'L', 'T', 'L', 'T', 'L', 'W', 'T', 'T', 'L', 'T', 'T', 'T', 'L', 'W', 'L', 'A', 'T', 'L', 'L', 'A', 'R', 'L', 'W', 'W', 'R', 'R', 'L', 'A', 'R', 'T', 'L', 'R', 'T', 'T', 'R', 'L', 'W', 'R', 'L', 'W', 'T', 'R', 'W', 'W', 'T', 'L', 'W', 'R', 'R', 'L', 'L', 'W', 'R', 'R', 'R', 'L', 'A', 'W', 'W', 'W', 'L', 'L', 'T', 'W', 'L', 'R', 'L', 'T', 'W', 'T', 'L', 'L', 'R', 'L', 'R', 'R', 'R', 'R', 'W', 'L', 'L', 'A', 'R', 'L', 'A', 'L', 'L', 'W', 'W', 'A', 'W', 'T', 'R', 'L', 'A', 'L', 'L', 'W', 'L', 'L', 'R', 'T', 'R', 'A', 'R', 'R', 'T', 'R', 'R', 'L', 'W', 'L', 'T', 'R', 'A', 'R', 'W', 'W', 'L', 'T', 'R', 'L', 'R', 'W', 'L', 'R', 'R', 'R', 'R', 'L', 'T', 'R', 'W', 'T', 'W', 'L', 'L', 'L', 'L', 'T', 'W', 'L', 'T', 'L', 'L', 'R', 'L', 'L', 'T', 'R', 'L', 'W', 'W', 'A', 'A', 'T', 'W', 'W', 'T', 'R', 'W', 'R', 'R', 'R', 'L', 'L', 'T', 'R', 'L', 'L', 'L', 'R', 'L', 'W', 'W', 'T', 'T', 'L', 'W', 'L', 'L', 'T', 'A', 'W', 'L', 'L', 'L', 'W', 'W', 'T', 'W', 'T', 'L', 'L', 'R', 'L', 'R', 'L', 'W', 'W', 'L', 'R', 'A', 'R', 'W', 'T', 'L', 'T', 'A', 'W', 'R', 'W', 'R', 'L', 'A', 'T', 'R', 'W', 'L', 'W', 'A', 'L', 'L', 'R', 'L', 'L', 'L', 'L', 'L', 'R', 'R', 'W', 'W', 'L', 'L', 'W', 'R', 'T', 'L', 'L', 'R', 'L', 'T', 'L', 'R', 'R', 'W', 'A', 'R', 'R', 'L', 'L', 'A', 'T', 'T', 'W', 'W', 'T', 'W', 'L', 'R', 'W', 'R', 'R', 'R', 'R', 'T', 'T', 'L', 'L', 'L', 'R', 'W', 'L', 'T', 'R', 'L', 'W', 'T', 'T', 'L', 'A', 'A', 'W', 'R', 'T', 'L', 'T', 'R', 'A', 'R', 'L', 'W', 'L', 'T', 'T', 'L', 'R', 'R', 'L', 'A', 'L', 'W', 'W', 'T', 'R', 'W', 'W', 'R', 'L', 'R', 'T', 'R', 'R', 'L', 'W', 'R', 'W', 'W', 'L', 'A', 'L', 'R', 'L', 'R', 'W', 'R', 'L', 'L', 'L', 'R', 'R', 'W', 'L', 'T', 'L', 'L', 'A', 'R', 'L', 'R', 'W', 'L', 'W', 'R', 'W', 'A', 'L', 'L', 'R', 'W', 'T', 'R', 'L', 'L', 'L', 'L', 'W', 'W', 'W', 'L', 'A', 'T', 'R', 'R', 'R', 'R', 'W', 'L', 'L', 'L', 'T', 'L', 'R', 'L', 'T', 'R', 'R', 'W', 'L', 'W', 'T', 'R', 'W', 'R', 'W', 'L', 'R', 'L', 'W', 'W', 'L', 'R', 'L', 'W', 'W', 'R', 'W', 'T', 'T', 'R', 'L', 'W', 'T', 'L', 'R', 'L', 'L', 'L', 'L', 'T', 'T', 'R', 'L', 'L', 'W', 'T', 'R', 'L', 'R', 'R', 'R', 'L', 'A', 'R', 'W', 'T', 'T', 'R', 'L', 'R', 'R', 'R', 'W', 'L', 'T', 'W', 'L', 'R', 'R', 'A', 'L', 'L', 'T', 'R', 'W', 'L', 'L', 'L', 'R', 'L', 'A', 'L', 'W', 'L', 'W', 'L', 'L', 'W', 'W', 'L', 'T', 'L', 'L', 'L', 'L', 'W', 'L', 'A', 'W', 'A', 'R', 'R', 'R', 'T', 'W', 'L', 'L', 'R', 'W', 'R', 'A', 'L', 'L', 'W', 'R', 'W', 'L', 'T', 'R', 'R', 'T', 'L', 'R', 'T', 'R', 'R', 'R', 'T', 'L', 'L', 'R', 'W', 'L', 'A', 'W', 'W', 'R', 'W', 'W', 'L', 'A', 'T', 'L', 'W', 'L', 'W', 'A', 'L', 'W', 'L', 'R', 'T', 'W', 'L', 'W', 'L', 'T', 'A', 'R', 'R', 'W', 'L', 'R', 'L', 'R', 'W', 'R', 'L', 'T', 'L', 'L', 'T', 'R', 'T', 'L', 'R', 'L', 'T', 'R', 'R', 'L', 'L', 'R', 'A', 'R', 'W', 'L', 'W', 'T', 'W', 'R', 'W', 'W', 'L', 'L', 'W', 'L', 'W', 'R', 'W', 'W', 'A', 'R', 'T', 'L', 'W', 'R', 'L', 'R', 'L', 'R', 'L', 'T', 'L', 'L', 'L', 'W', 'W', 'L', 'W', 'R', 'R', 'R', 'W', 'L', 'W', 'L', 'T', 'L', 'W', 'W', 'W', 'A', 'W', 'R', 'T', 'L', 'L', 'L', 'L', 'L', 'L', 'R', 'L', 'R', 'L', 'W', 'W', 'L', 'L', 'L', 'A', 'R', 'T', 'T', 'R', 'L', 'L', 'T', 'W', 'W', 'R', 'W', 'R', 'L', 'W', 'W', 'L', 'L', 'W', 'L', 'W', 'L', 'L', 'R', 'L', 'A', 'R', 'R', 'L', 'L', 'W', 'L', 'W', 'L', 'A', 'R', 'T', 'W', 'R', 'T', 'A', 'L', 'L', 'A', 'R', 'R', 'A', 'R', 'L', 'W', 'T', 'L', 'W', 'W', 'R', 'L', 'L', 'R', 'W', 'L', 'L', 'T', 'T', 'R', 'R', 'L', 'L', 'R', 'T', 'W', 'W', 'W', 'L', 'L', 'T', 'W', 'W', 'R', 'L', 'T', 'R', 'W', 'T', 'R', 'L', 'R', 'W', 'L', 'W', 'L', 'W', 'L', 'W', 'L', 'L', 'L', 'T', 'L', 'T', 'W', 'L', 'W', 'R', 'W', 'L', 'L', 'T', 'W', 'R', 'W', 'T', 'W', 'W', 'L', 'R', 'T', 'R', 'T', 'W', 'L', 'A', 'W', 'W', 'W', 'T', 'A', 'R', 'L', 'W', 'W', 'R', 'R', 'R', 'L', 'R', 'W', 'L', 'L', 'W', 'W', 'R', 'L', 'T', 'R', 'A', 'R', 'W', 'L', 'A', 'A', 'R', 'T', 'L', 'W', 'R', 'T', 'L', 'A', 'W', 'L', 'T', 'T', 'R', 'L', 'A', 'W', 'L', 'R', 'T', 'L', 'W', 'R', 'W', 'T', 'W', 'L', 'L', 'L', 'W', 'A', 'A', 'R', 'L', 'L', 'L', 'W', 'L', 'L', 'L', 'W', 'W', 'T', 'W', 'L', 'R', 'A', 'T', 'L', 'T', 'R', 'L', 'W', 'R', 'A', 'L', 'L', 'W', 'A', 'R', 'R', 'R', 'W', 'W', 'T', 'W', 'T', 'W', 'R', 'W', 'W', 'W', 'L', 'W', 'A', 'L', 'A', 'R', 'T', 'L', 'W', 'W', 'W', 'T', 'T', 'L', 'L', 'W', 'L', 'R', 'A', 'L', 'W', 'L', 'T', 'W', 'W', 'L', 'W', 'T', 'R', 'T', 'R', 'L', 'T', 'L', 'W', 'A', 'W', 'R', 'W', 'L', 'L', 'R', 'W', 'R', 'L', 'L', 'A', 'L', 'T', 'L', 'A', 'L', 'W', 'R', 'R', 'L', 'W', 'L', 'L', 'T', 'W', 'L', 'L', 'W', 'T', 'W', 'A', 'R', 'R', 'R', 'R', 'R', 'W', 'L', 'L', 'T', 'T', 'W', 'T', 'L', 'W', 'A', 'W', 'R', 'L', 'L', 'W', 'L', 'R', 'W', 'L', 'W', 'W', 'T', 'L', 'R', 'T', 'T', 'W', 'L', 'L', 'W', 'W', 'R', 'R', 'W', 'W', 'W', 'L', 'R', 'R', 'W', 'W', 'T', 'L', 'R', 'W', 'T', 'W', 'W', 'L', 'L', 'L', 'L', 'T', 'L', 'A', 'W', 'T', 'L', 'L', 'L', 'T', 'R', 'T', 'L', 'L', 'W', 'W', 'L', 'A', 'W', 'L', 'T', 'R', 'W', 'R', 'W', 'A', 'L', 'L', 'W', 'A', 'L', 'L', 'L', 'R', 'T', 'L', 'L', 'T', 'L', 'R', 'L', 'R', 'R', 'R', 'R', 'W', 'T', 'A', 'R', 'L', 'L', 'R', 'L', 'L', 'L', 'T', 'L', 'T', 'L', 'L', 'L', 'L', 'R', 'L', 'R', 'L', 'A', 'R', 'T', 'L', 'W', 'T', 'W', 'L', 'L', 'T', 'L', 'W', 'W', 'W', 'A', 'A', 'L', 'W', 'W', 'R', 'T', 'L', 'W', 'L', 'T', 'A', 'L', 'A', 'L', 'R', 'R', 'L', 'L', 'L', 'R', 'T', 'W', 'W', 'L', 'A', 'W', 'L', 'W', 'T', 'L', 'L', 'W', 'L', 'L', 'R', 'L', 'R', 'T', 'A', 'R', 'L', 'T', 'W', 'R', 'W', 'T', 'W', 'W', 'A', 'W', 'R', 'L', 'W', 'L', 'R', 'T', 'L', 'L', 'L', 'T', 'L', 'A', 'W', 'R', 'T', 'L', 'W', 'R', 'W', 'L', 'L', 'R', 'L', 'W', 'R', 'L', 'T', 'R', 'L', 'L', 'L', 'W', 'R', 'R', 'L', 'R', 'W', 'R', 'T', 'W', 'W', 'L', 'W', 'R', 'A', 'R', 'W', 'W', 'R', 'R', 'L', 'T', 'T', 'L', 'A', 'L', 'W', 'T', 'W', 'R', 'R', 'L', 'T', 'R', 'L', 'L', 'L', 'W', 'T', 'L', 'L', 'T', 'W', 'R', 'L', 'T', 'T', 'A', 'W', 'A', 'L', 'L', 'R', 'W', 'T', 'L', 'W', 'T', 'A', 'L', 'L', 'L', 'L', 'R', 'R', 'R', 'T', 'R', 'W', 'A', 'T', 'L', 'W', 'W', 'L', 'T', 'R', 'R', 'L', 'R', 'L', 'R', 'L', 'W', 'A', 'R', 'L', 'T', 'R', 'A', 'T', 'R', 'L', 'W', 'T', 'T', 'R', 'T', 'T', 'L', 'L', 'A', 'L', 'T', 'L', 'T', 'A', 'L', 'A', 'L', 'L', 'T', 'L', 'R', 'L', 'T', 'T', 'W', 'L', 'L', 'T', 'L', 'T', 'W', 'L', 'R', 'L', 'W', 'R', 'R', 'R', 'L', 'W', 'W', 'W', 'W', 'L', 'W', 'L', 'R', 'W', 'R', 'W', 'L', 'T', 'R', 'R', 'L', 'L', 'R', 'R', 'R', 'L', 'W', 'L', 'L', 'L', 'L', 'L', 'L', 'L', 'T', 'R', 'W', 'W', 'W', 'R', 'R', 'L', 'W', 'T', 'L', 'W', 'W', 'W', 'L', 'L', 'L', 'W', 'W', 'L', 'W', 'L', 'W', 'W', 'T', 'L', 'L', 'W', 'T', 'L', 'R', 'L', 'R', 'R', 'W', 'W', 'A', 'W', 'A', 'L', 'L', 'T', 'R', 'L', 'W', 'R', 'L', 'T', 'R', 'L', 'R', 'W', 'W', 'L', 'L', 'T', 'L', 'W', 'L', 'L', 'L', 'A', 'A', 'W', 'L', 'W', 'L', 'L', 'L', 'W', 'R', 'L', 'W', 'T', 'A', 'R', 'R', 'W', 'L', 'R', 'T', 'L', 'W', 'R', 'R', 'L', 'W', 'A', 'L', 'R', 'W', 'W', 'T', 'L', 'W', 'R', 'L', 'W', 'W', 'T', 'R', 'L', 'L', 'R', 'T', 'W', 'T', 'R', 'L', 'A', 'R', 'R', 'W', 'A', 'L', 'W', 'R', 'W', 'L', 'A', 'L', 'T', 'L', 'L', 'T', 'W', 'A', 'L', 'A', 'L', 'R', 'R', 'R', 'R', 'R', 'T', 'L', 'T', 'L', 'R', 'R', 'L', 'L', 'T', 'L', 'R', 'R', 'L', 'A', 'T', 'R', 'A', 'L', 'A', 'A', 'W', 'W', 'W', 'T', 'W', 'R', 'R', 'L', 'W', 'L', 'W', 'A', 'A', 'T', 'T', 'W', 'A', 'T', 'W', 'L', 'L', 'T', 'W', 'W', 'A', 'W', 'W', 'W', 'T', 'W', 'R', 'R', 'L', 'W', 'R', 'R', 'W', 'L', 'A', 'L', 'L', 'L', 'R', 'W', 'L', 'L', 'A', 'W', 'R', 'W', 'R', 'L', 'R', 'W', 'T', 'L', 'L', 'W', 'L', 'R', 'L', 'L', 'W', 'R', 'L', 'L', 'T', 'R', 'L', 'A', 'L', 'L', 'T', 'T', 'A', 'L', 'T', 'R', 'T', 'T', 'R', 'W', 'L', 'L', 'L', 'R', 'A', 'T', 'T', 'L', 'A', 'W', 'T', 'W', 'L', 'L', 'A', 'T', 'L', 'L', 'L', 'T', 'W', 'L', 'T', 'T', 'W', 'W', 'T', 'W', 'R', 'L', 'A', 'L', 'T', 'R', 'T', 'A', 'R', 'R', 'A', 'L', 'R', 'R', 'R', 'L', 'W', 'R', 'W', 'W', 'L', 'W', 'W', 'T', 'R', 'W', 'A', 'L', 'W', 'R', 'T', 'T', 'L', 'T', 'W', 'L', 'L', 'T', 'R', 'A', 'R', 'R', 'R', 'L', 'R', 'L', 'L', 'R', 'L', 'R', 'A', 'W', 'W', 'R', 'R', 'R', 'L', 'A', 'L', 'W', 'R', 'T', 'T', 'T', 'L', 'W', 'R', 'R', 'L', 'L', 'W', 'L', 'L', 'L', 'L', 'R', 'L', 'L', 'L', 'L', 'L', 'A', 'W', 'T', 'L', 'R', 'L', 'W', 'W', 'L', 'W', 'W', 'T', 'R', 'W', 'R', 'W', 'L', 'T', 'R', 'L', 'W', 'L', 'L', 'A', 'T', 'R', 'R', 'L', 'L', 'R', 'R', 'R', 'L', 'W', 'W', 'W', 'W', 'R', 'R', 'A', 'R', 'W', 'L', 'W', 'W', 'W', 'L', 'L', 'W', 'L', 'L', 'L', 'R', 'L', 'R', 'W', 'W', 'R', 'L', 'W', 'R', 'L', 'T', 'W', 'A', 'A', 'W', 'R', 'L', 'T', 'W', 'L', 'L', 'A', 'R', 'W', 'T', 'W', 'L', 'L', 'T', 'W', 'W', 'R', 'R', 'A', 'L', 'A', 'R', 'L', 'T', 'W', 'W', 'W', 'L', 'A', 'L', 'T', 'L', 'A', 'L', 'W', 'L', 'L', 'R', 'R', 'L', 'R', 'L', 'L', 'L', 'W', 'W', 'R', 'R', 'W', 'W', 'L', 'R', 'W', 'R', 'T', 'W', 'T', 'W', 'R', 'T', 'T', 'W', 'R', 'W', 'R', 'W', 'T', 'R', 'W', 'T', 'L', 'L', 'T', 'W', 'L', 'T', 'R', 'L', 'L', 'W', 'W', 'T', 'L', 'L', 'T', 'L', 'T', 'T', 'T', 'W', 'L', 'L', 'T', 'W', 'W', 'R', 'T', 'L', 'T', 'A', 'W', 'R', 'T', 'R', 'L', 'T', 'R', 'W', 'W', 'T', 'R', 'R', 'A', 'L', 'R', 'L', 'A', 'R', 'W', 'R', 'L', 'R', 'W', 'T', 'L', 'T', 'L', 'T', 'W', 'W', 'L', 'W', 'W', 'W', 'L', 'R', 'R', 'L', 'R', 'R', 'T', 'T', 'R', 'W', 'L', 'W', 'W', 'R', 'L', 'W', 'L', 'L', 'W', 'W', 'L', 'W', 'R', 'L', 'A', 'L', 'A', 'L', 'L', 'T', 'W', 'W', 'W', 'L', 'L', 'R', 'W', 'R', 'T', 'L', 'L', 'R', 'R', 'W', 'T', 'T', 'A', 'R', 'T', 'L', 'R', 'L', 'W', 'T', 'R', 'W', 'W', 'L', 'R', 'T', 'W', 'W', 'W', 'L', 'W', 'L', 'W', 'W', 'L', 'R', 'T', 'R', 'L', 'R', 'L', 'L', 'T', 'T', 'T', 'R', 'T', 'T', 'L', 'W', 'T', 'W', 'W', 'R', 'L', 'R', 'W', 'L', 'L', 'R', 'W', 'R', 'W', 'T', 'R', 'L', 'R', 'T', 'R', 'R', 'A', 'R', 'R', 'L', 'L', 'R', 'L', 'L', 'W', 'T', 'L', 'R', 'R', 'T', 'W', 'T', 'R', 'W', 'W', 'T', 'L', 'R', 'L', 'R', 'W', 'T', 'R', 'W', 'R', 'R', 'R', 'R', 'L', 'L', 'L', 'T', 'L', 'W', 'R', 'R', 'W', 'L', 'L', 'L', 'L', 'W', 'R', 'L', 'L', 'T', 'W', 'W', 'T', 'W', 'L', 'W', 'L', 'L', 'W', 'R', 'W', 'W', 'R', 'R', 'T', 'L', 'W', 'T', 'W', 'R', 'R', 'T', 'T', 'L', 'L', 'R', 'L', 'L', 'R', 'T', 'L', 'R', 'L', 'W', 'W', 'W', 'W', 'L', 'W', 'L', 'T', 'W', 'L', 'W', 'L', 'L', 'T', 'A', 'T', 'L', 'W', 'W', 'A', 'R', 'R', 'L', 'T', 'W', 'W', 'R', 'L', 'R', 'T', 'T', 'L', 'L', 'T', 'T', 'R', 'R', 'R', 'R', 'L', 'L', 'W', 'W', 'L', 'W', 'T', 'W', 'W', 'W', 'L', 'W', 'R', 'L', 'L', 'R', 'R', 'A', 'L', 'T', 'W', 'R', 'T', 'W', 'L', 'L', 'T', 'R', 'R', 'L', 'L', 'W', 'R', 'L', 'L', 'L', 'A', 'T', 'R', 'R', 'R', 'L', 'T', 'W', 'W', 'T', 'W', 'W', 'L', 'T', 'W', 'L', 'W', 'A', 'L', 'R', 'L', 'R', 'A', 'R', 'W', 'T', 'L', 'R', 'T', 'T', 'L', 'W', 'R', 'W', 'L', 'L', 'R', 'W', 'R', 'L', 'L', 'R', 'L', 'L', 'W', 'W', 'R', 'L', 'T', 'L', 'L', 'L', 'W', 'L', 'L', 'T', 'L', 'L', 'W', 'L', 'T', 'R', 'W', 'T', 'W', 'L', 'W', 'W', 'R', 'A', 'R', 'R', 'W', 'W', 'T', 'W', 'R', 'T', 'L', 'W', 'R', 'R', 'L', 'L', 'L', 'A', 'W', 'T', 'W', 'W', 'A', 'L', 'T', 'R', 'W', 'R', 'T', 'R', 'R', 'L', 'A', 'W', 'W', 'W', 'L', 'W', 'R', 'L', 'L', 'R', 'W', 'R', 'W', 'L', 'R', 'W', 'L', 'T', 'R', 'A', 'W', 'L', 'R', 'R', 'W', 'R', 'T', 'R', 'L', 'L', 'L', 'R', 'L', 'T', 'T', 'R', 'T', 'W', 'T', 'W', 'T', 'A', 'T', 'L', 'L', 'R', 'L', 'W', 'W', 'W', 'W', 'R', 'L', 'R', 'W', 'R', 'R', 'W', 'T', 'W', 'A', 'R', 'W', 'R', 'W', 'R', 'T', 'R', 'T', 'T', 'T', 'L', 'R', 'W', 'L', 'W', 'R', 'L', 'L', 'L', 'W', 'W', 'R', 'R', 'A', 'W', 'R', 'L', 'L', 'L', 'R', 'T', 'W', 'L', 'T', 'R', 'R', 'T', 'W', 'L', 'L', 'L', 'W', 'L', 'L', 'L', 'T', 'R', 'R', 'R', 'R', 'W', 'R', 'W', 'T', 'W', 'W', 'R', 'L', 'L', 'R', 'R', 'R', 'L', 'L', 'L', 'R', 'L', 'R', 'T', 'T', 'R', 'L', 'R', 'R', 'W', 'R', 'W', 'L', 'R', 'R', 'W', 'R', 'L', 'R', 'W', 'W', 'W', 'L', 'L', 'L', 'W', 'R', 'W', 'W', 'L', 'R', 'L', 'L', 'R', 'L', 'A', 'R', 'L', 'R', 'T', 'L', 'W', 'L', 'R', 'W', 'W', 'R', 'A', 'R', 'R', 'R', 'L', 'W', 'T', 'L', 'W', 'R', 'L', 'W', 'L', 'L', 'R', 'R', 'L', 'W', 'L', 'R', 'L', 'W', 'R', 'W', 'L', 'W', 'R', 'T', 'T', 'L', 'L', 'L', 'L', 'L', 'W', 'T', 'A', 'L', 'L', 'R', 'R', 'L', 'R', 'R', 'T', 'T', 'R', 'W', 'T', 'R', 'L', 'T', 'L', 'T', 'T', 'L', 'W', 'A', 'R', 'A', 'L', 'W', 'W', 'L', 'L', 'T', 'W', 'W', 'W', 'L', 'L', 'R', 'A', 'L', 'R', 'W', 'R', 'W', 'L', 'L', 'T', 'L', 'W', 'W', 'L', 'W', 'W', 'R', 'L', 'L', 'W', 'L', 'R', 'W', 'A', 'T', 'L', 'W', 'R', 'R', 'L', 'W', 'T', 'L', 'R', 'T', 'R', 'L', 'R', 'W', 'R', 'L', 'A', 'T', 'T', 'L', 'W', 'A', 'R', 'L', 'L', 'A', 'T', 'A', 'L', 'L', 'T', 'R', 'A', 'L', 'R', 'L', 'L', 'A', 'T', 'R', 'L', 'L', 'T', 'L', 'T', 'R', 'R', 'W', 'T', 'L', 'R', 'L', 'R', 'L', 'L', 'R', 'R', 'W', 'L', 'L', 'A', 'A', 'R', 'W', 'T', 'R', 'R', 'L', 'W', 'W', 'W', 'L', 'A', 'W', 'R', 'T', 'R', 'R', 'R', 'T', 'A', 'T', 'R', 'R', 'A', 'A', 'T', 'L', 'T', 'W', 'W', 'W', 'L', 'T', 'R', 'L', 'R', 'W', 'L', 'A', 'R', 'W', 'W', 'T', 'W', 'L', 'W', 'L', 'L', 'W', 'R', 'R', 'W', 'L', 'W', 'R', 'T', 'R', 'W', 'W', 'R', 'L', 'L', 'T', 'W', 'W', 'L', 'T', 'T', 'L', 'T', 'L', 'R', 'L', 'R', 'W', 'T', 'T', 'W', 'R', 'W', 'T', 'W', 'A', 'R', 'L', 'W', 'W', 'R', 'T', 'L', 'L', 'T', 'L', 'L', 'T', 'A', 'W', 'W', 'R', 'L', 'T', 'L', 'R', 'W', 'L', 'W', 'W', 'R', 'W', 'T', 'L', 'L', 'R', 'T', 'L', 'W', 'T', 'R', 'T', 'W', 'R', 'L', 'W', 'L', 'A', 'R', 'R', 'L', 'L', 'L', 'W', 'A', 'L', 'A', 'W', 'W', 'T', 'L', 'L', 'L', 'W', 'R', 'W', 'T', 'A', 'A', 'W', 'T', 'A', 'W', 'W', 'R', 'R', 'R', 'R', 'T', 'T', 'L', 'W', 'R', 'R', 'W', 'R', 'R', 'W', 'W', 'R', 'W', 'L', 'T', 'T', 'W', 'W', 'T', 'L', 'R', 'L', 'L', 'R', 'L', 'L', 'W', 'L', 'R', 'R', 'L', 'R', 'L', 'L', 'W', 'A', 'R', 'W', 'L', 'W', 'A', 'W', 'W', 'L', 'L', 'L', 'W']\n",
      "['T', 'R', 'L', 'W', 'W', 'L', 'R', 'T', 'T', 'A', 'T', 'A', 'R', 'R', 'W', 'A', 'T', 'W', 'R', 'A', 'W', 'R', 'A', 'L', 'L', 'T', 'L', 'R', 'W', 'R', 'L', 'A', 'L', 'R', 'W', 'W', 'A', 'T', 'T', 'R', 'R', 'T', 'R', 'W', 'W', 'A', 'W', 'W', 'L', 'L', 'R', 'A', 'T', 'W', 'R', 'W', 'W', 'T', 'T', 'W', 'R', 'R', 'T', 'R', 'R', 'T', 'W', 'R', 'T', 'T', 'W', 'L', 'L', 'A', 'L', 'R', 'L', 'T', 'R', 'A', 'L', 'A', 'W', 'L', 'W', 'W', 'A', 'R', 'A', 'W', 'W', 'T', 'A', 'T', 'T', 'W', 'A', 'L', 'R', 'T', 'A', 'L', 'W', 'A', 'T', 'L', 'W', 'R', 'L', 'L', 'A', 'T', 'A', 'T', 'T', 'W', 'W', 'T', 'R', 'T', 'L', 'A', 'R', 'W', 'W', 'L', 'T', 'L', 'A', 'L', 'A', 'R', 'A', 'W', 'W', 'R', 'A', 'A', 'T', 'T', 'A', 'T', 'L', 'A', 'A', 'L', 'R', 'W', 'A', 'R', 'W', 'A', 'T', 'R', 'A', 'R', 'W', 'W', 'A', 'R', 'A', 'T', 'T', 'T', 'L', 'W', 'T', 'T', 'T', 'W', 'L', 'A', 'A', 'A', 'T', 'R', 'A', 'L', 'R', 'W', 'L', 'L', 'T', 'W', 'A', 'R', 'A', 'T', 'T', 'L', 'R', 'A', 'W', 'A', 'A', 'W', 'T', 'A', 'A', 'A', 'A', 'W', 'A', 'T', 'R', 'W', 'R', 'A', 'W', 'A', 'R', 'R', 'R', 'R', 'A', 'A', 'A', 'T', 'W', 'W', 'W', 'A', 'W', 'A', 'A', 'A', 'L', 'R', 'W', 'A', 'R', 'W', 'R', 'W', 'T', 'L', 'T', 'W', 'A', 'T', 'R', 'L', 'W', 'A', 'R', 'W', 'L', 'L', 'A', 'W', 'A', 'A', 'L', 'W', 'L', 'L', 'T', 'W', 'W', 'R', 'A', 'L', 'R', 'L', 'T', 'A', 'A', 'T', 'A', 'T', 'A', 'R', 'A', 'A', 'W', 'R', 'A', 'W', 'R', 'W', 'R', 'A', 'T', 'W', 'L', 'T', 'T', 'T', 'W', 'A', 'R', 'T', 'A', 'W', 'T', 'T', 'A', 'L', 'T', 'A', 'R', 'A', 'A', 'L', 'W', 'T', 'R', 'A', 'A', 'L', 'L', 'W', 'R', 'A', 'W', 'T', 'A', 'W', 'L', 'R', 'A', 'T', 'T', 'T', 'R', 'A', 'W', 'A', 'A', 'A', 'A', 'R', 'R', 'A', 'A', 'W', 'R', 'W', 'W', 'W', 'A', 'A', 'A', 'A', 'W', 'A', 'T', 'W', 'R', 'R', 'A', 'A', 'W', 'T', 'L', 'R', 'W', 'R', 'A', 'W', 'L', 'R', 'R', 'W', 'L', 'T', 'T', 'W', 'A', 'A', 'L', 'W', 'R', 'W', 'L', 'A', 'W', 'L', 'T', 'R', 'T', 'A', 'R', 'T', 'W', 'L', 'W', 'A', 'R', 'R', 'A', 'T', 'R', 'W', 'T', 'A', 'L', 'L', 'L', 'T', 'R', 'A', 'W', 'L', 'R', 'W', 'A', 'R', 'R', 'W', 'L', 'R', 'R', 'T', 'T', 'T', 'W', 'A', 'W', 'W', 'R', 'W', 'R', 'L', 'A', 'T', 'W', 'W', 'L', 'R', 'W', 'W', 'A', 'T', 'T', 'W', 'W', 'R', 'R', 'T', 'R', 'T', 'T', 'W', 'R', 'T', 'R', 'R', 'T', 'L', 'R', 'L', 'A', 'L', 'L', 'W', 'W', 'A', 'R', 'L', 'L', 'A', 'A', 'W', 'T', 'A', 'W', 'W', 'A', 'A', 'R', 'T', 'W', 'T', 'T', 'A', 'L', 'L', 'T', 'W', 'A', 'L', 'R', 'T', 'T', 'W', 'T', 'W', 'A', 'L', 'T', 'A', 'L', 'R', 'W', 'R', 'A', 'W', 'T', 'L', 'A', 'T', 'R', 'R', 'L', 'L', 'T', 'W', 'R', 'R', 'L', 'T', 'T', 'L', 'L', 'L', 'A', 'R', 'A', 'A', 'A', 'W', 'A', 'W', 'T', 'R', 'R', 'L', 'T', 'T', 'A', 'W', 'T', 'A', 'T', 'R', 'A', 'T', 'L', 'R', 'L', 'A', 'R', 'A', 'T', 'L', 'A', 'T', 'T', 'L', 'W', 'A', 'T', 'A', 'L', 'T', 'R', 'R', 'L', 'R', 'T', 'L', 'R', 'L', 'R', 'T', 'L', 'L', 'W', 'R', 'T', 'R', 'T', 'A', 'T', 'L', 'T', 'T', 'R', 'L', 'L', 'R', 'T', 'T', 'W', 'L', 'W', 'T', 'R', 'W', 'T', 'W', 'W', 'T', 'L', 'A', 'L', 'L', 'W', 'L', 'T', 'R', 'L', 'L', 'L', 'L', 'T', 'W', 'A', 'A', 'R', 'R', 'T', 'T', 'W', 'W', 'A', 'W', 'R', 'T', 'L', 'L', 'W', 'W', 'A', 'T', 'T', 'L', 'T', 'A', 'A', 'R', 'A', 'T', 'T', 'A', 'W', 'L', 'W', 'L', 'L', 'R', 'T', 'W', 'W', 'A', 'L', 'W', 'A', 'R', 'L', 'L', 'A', 'L', 'A', 'L', 'R', 'W', 'W', 'W', 'T', 'A', 'T', 'L', 'L', 'R', 'L', 'L', 'A', 'W', 'L', 'A', 'T', 'T', 'R', 'W', 'W', 'W', 'T', 'R', 'A', 'T', 'R', 'R', 'R', 'L', 'R', 'R', 'A', 'W', 'L', 'A', 'A', 'T', 'W', 'T', 'A', 'L', 'A', 'A', 'T', 'L', 'R', 'A', 'A', 'L', 'A', 'W', 'W', 'A', 'R', 'L', 'R', 'A', 'L', 'R', 'L', 'L', 'L', 'W', 'W', 'A', 'R', 'A', 'R', 'W', 'R', 'L', 'L', 'T', 'W', 'R', 'A', 'R', 'W', 'W', 'A', 'A', 'T', 'L', 'L', 'W', 'W', 'R', 'T', 'A', 'W', 'L', 'W', 'L', 'A', 'R', 'A', 'T', 'T', 'L', 'A', 'T', 'A', 'T', 'T', 'A', 'L', 'R', 'L', 'W', 'W', 'L', 'L', 'W', 'W', 'A', 'T', 'L', 'L', 'A', 'A', 'R', 'L', 'L', 'W', 'A', 'A', 'T', 'T', 'W', 'W', 'W', 'R', 'T', 'W', 'A', 'L', 'L', 'R', 'L', 'L', 'A', 'L', 'R', 'L', 'R', 'R', 'A', 'T', 'R', 'W', 'W', 'W', 'R', 'T', 'T', 'R', 'L', 'A', 'A', 'T', 'W', 'W', 'A', 'R', 'A', 'T', 'A', 'A', 'L', 'W', 'R', 'A', 'T', 'L', 'L', 'A', 'A', 'R', 'L', 'L', 'A', 'R', 'A', 'W', 'R', 'A', 'W', 'L', 'L', 'W', 'L', 'R', 'W', 'W', 'R', 'A', 'A', 'T', 'W', 'R', 'R', 'L', 'W', 'L', 'R', 'A', 'W', 'L', 'T', 'L', 'A', 'L', 'L', 'W', 'W', 'A', 'W', 'R', 'T', 'T', 'R', 'W', 'L', 'L', 'R', 'R', 'A', 'T', 'L', 'L', 'T', 'L', 'T', 'L', 'R', 'W', 'A', 'T', 'R', 'W', 'A', 'A', 'R', 'A', 'A', 'T', 'A', 'W', 'R', 'L', 'T', 'R', 'L', 'T', 'A', 'L', 'T', 'R', 'T', 'A', 'L', 'T', 'A', 'R', 'A', 'A', 'W', 'T', 'A', 'T', 'T', 'L', 'A', 'T', 'R', 'L', 'R', 'L', 'R', 'L', 'T', 'L', 'L', 'R', 'L', 'T', 'R', 'T', 'A', 'L', 'T', 'R', 'T', 'W', 'R', 'R', 'W', 'W', 'T', 'W', 'L', 'T', 'W', 'L', 'R', 'T', 'L', 'T', 'R', 'W', 'T', 'T', 'W', 'L', 'L', 'A', 'T', 'L', 'T', 'L', 'R', 'L', 'L', 'L', 'T', 'L', 'T', 'R', 'T', 'A', 'R', 'A', 'W', 'W', 'A', 'W', 'W', 'W', 'L', 'W', 'R', 'T', 'L', 'L', 'L', 'W', 'A', 'R', 'A', 'A', 'T', 'R', 'A', 'L', 'T', 'R', 'T', 'T', 'A', 'L', 'W', 'R', 'T', 'A', 'T', 'R', 'R', 'T', 'T', 'A', 'T', 'L', 'W', 'R', 'W', 'R', 'T', 'T', 'T', 'R', 'A', 'R', 'W', 'R', 'L', 'L', 'W', 'W', 'R', 'W', 'A', 'L', 'A', 'R', 'L', 'R', 'W', 'T', 'A', 'W', 'T', 'W', 'L', 'W', 'L', 'T', 'R', 'W', 'R', 'R', 'T', 'A', 'W', 'W', 'R', 'W', 'W', 'R', 'A', 'L', 'R', 'R', 'R', 'L', 'T', 'T', 'W', 'W', 'W', 'L', 'L', 'A', 'T', 'A', 'A', 'T', 'A', 'R', 'W', 'W', 'R', 'A', 'L', 'L', 'A', 'R', 'T', 'A', 'R', 'L', 'L', 'R', 'A', 'T', 'R', 'T', 'R', 'A', 'T', 'R', 'L', 'R', 'W', 'R', 'R', 'A', 'L', 'W', 'W', 'W', 'R', 'A', 'L', 'R', 'W', 'A', 'R', 'R', 'L', 'A', 'L', 'T', 'W', 'W', 'A', 'A', 'A', 'W', 'R', 'T', 'W', 'L', 'R', 'R', 'T', 'L', 'W', 'T', 'R', 'R', 'W', 'L', 'T', 'T', 'L', 'A', 'T', 'T', 'L', 'A', 'L', 'A', 'W', 'W', 'W', 'R', 'R', 'T', 'R', 'A', 'L', 'W', 'A', 'T', 'W', 'T', 'L', 'T', 'A', 'W', 'A', 'W', 'A', 'A', 'A', 'W', 'T', 'R', 'R', 'R', 'W', 'A', 'T', 'R', 'R', 'L', 'L', 'W', 'A', 'L', 'T', 'R', 'T', 'R', 'L', 'W', 'W', 'R', 'W', 'T', 'T', 'R', 'W', 'W', 'W', 'L', 'A', 'A', 'T', 'W', 'W', 'W', 'L', 'W', 'R', 'R', 'R', 'W', 'T', 'L', 'R', 'W', 'R', 'T', 'R', 'L', 'W', 'A', 'T', 'R', 'T', 'W', 'L', 'A', 'R', 'R', 'A', 'L', 'R', 'W', 'R', 'W', 'W', 'A', 'W', 'A', 'L', 'T', 'L', 'R', 'R', 'L', 'T', 'W', 'T', 'A', 'A', 'W', 'R', 'W', 'R', 'L', 'T', 'R', 'T', 'L', 'W', 'T', 'T', 'L', 'L', 'A', 'T', 'R', 'W', 'L', 'A', 'A', 'W', 'W', 'R', 'R', 'T', 'T', 'W', 'W', 'A', 'A', 'L', 'W', 'A', 'A', 'W', 'A', 'A', 'W', 'A', 'L', 'T', 'T', 'R', 'R', 'R', 'W', 'T', 'A', 'T', 'R', 'R', 'T', 'R', 'A', 'L', 'L', 'W', 'L', 'W', 'R', 'T', 'T', 'W', 'W', 'R', 'W', 'R', 'W', 'L', 'T', 'W', 'W', 'T', 'W', 'A', 'A', 'W', 'L', 'R', 'W', 'R', 'L', 'T', 'W', 'R', 'R', 'R', 'L', 'W', 'W', 'L', 'T', 'A', 'W', 'L', 'R', 'T', 'R', 'T', 'A', 'R', 'T', 'A', 'R', 'A', 'L', 'L', 'A', 'W', 'L', 'A', 'T', 'R', 'T', 'T', 'L', 'R', 'T', 'T', 'R', 'R', 'T', 'A', 'W', 'T', 'L', 'W', 'T', 'A', 'W', 'R', 'R', 'T', 'T', 'R', 'A', 'W', 'T', 'R', 'R', 'R', 'W', 'A', 'W', 'W', 'L', 'L', 'T', 'A', 'W', 'L', 'W', 'R', 'R', 'A', 'L', 'R', 'W', 'T', 'R', 'L', 'W', 'T', 'R', 'W', 'L', 'T', 'A', 'R', 'L', 'W', 'R', 'A', 'R', 'W', 'W', 'W', 'T', 'T', 'L', 'R', 'R', 'T', 'A', 'R', 'A', 'T', 'A', 'A', 'L', 'W', 'W', 'W', 'L', 'L', 'L', 'A', 'A', 'R', 'W', 'W', 'A', 'L', 'L', 'R', 'R', 'A', 'R', 'T', 'A', 'T', 'R', 'R', 'T', 'T', 'R', 'R', 'W', 'R', 'R', 'L', 'W', 'A', 'L', 'W', 'W', 'A', 'R', 'T', 'T', 'T', 'A', 'A', 'A', 'L', 'T', 'R', 'T', 'T', 'R', 'W', 'A', 'T', 'L', 'R', 'A', 'L', 'L', 'A', 'W', 'A', 'L', 'T', 'L', 'R', 'T', 'A', 'W', 'R', 'T', 'T', 'T', 'W', 'L', 'L', 'L', 'T', 'R', 'R', 'W', 'A', 'L', 'L', 'W', 'W', 'L', 'R', 'R', 'L', 'T', 'R', 'W', 'A', 'W', 'T', 'A', 'A', 'T', 'R', 'A', 'W', 'T', 'L', 'R', 'R', 'W', 'L', 'T', 'T', 'W', 'R', 'R', 'A', 'L', 'W', 'L', 'W', 'T', 'R', 'R', 'T', 'R', 'R', 'L', 'T', 'T', 'T', 'T', 'R', 'W', 'L', 'L', 'W', 'R', 'T', 'L', 'A', 'T', 'W', 'L', 'T', 'R', 'L', 'R', 'W', 'A', 'L', 'T', 'A', 'T', 'L', 'L', 'L', 'T', 'W', 'A', 'T', 'L', 'L', 'L', 'A', 'R', 'W', 'A', 'L', 'A', 'R', 'R', 'R', 'R', 'A', 'A', 'W', 'T', 'W', 'T', 'W', 'R', 'L', 'W', 'W', 'W', 'R', 'L', 'L', 'A', 'A', 'W', 'R', 'T', 'A', 'R', 'R', 'W', 'A', 'W', 'T', 'L', 'A', 'T', 'T', 'T', 'R', 'R', 'W', 'L', 'R', 'L', 'R', 'W', 'L', 'T', 'T', 'W', 'T', 'R', 'L', 'L', 'A', 'A', 'T', 'A', 'L', 'W', 'R', 'T', 'T', 'A', 'T', 'T', 'L', 'W', 'L', 'A', 'T', 'R', 'L', 'T', 'L', 'W', 'R', 'A', 'A', 'R', 'L', 'L', 'T', 'T', 'T', 'A', 'W', 'W', 'A', 'T', 'R', 'W', 'L', 'A', 'T', 'R', 'T', 'A', 'W', 'R', 'T', 'L', 'W', 'R', 'L', 'A', 'L', 'L', 'L', 'W', 'A', 'A', 'L', 'W', 'T', 'L', 'W', 'T', 'L', 'W', 'R', 'R', 'R', 'R', 'R', 'A', 'A', 'L', 'R', 'W', 'W', 'T', 'W', 'A', 'T', 'W', 'A', 'A', 'A', 'L', 'L', 'R', 'W', 'L', 'W', 'R', 'W', 'W', 'R', 'A', 'T', 'R', 'R', 'W', 'R', 'W', 'T', 'R', 'T', 'T', 'A', 'A', 'W', 'T', 'L', 'W', 'L', 'R', 'L', 'R', 'L', 'R', 'T', 'T', 'W', 'L', 'T', 'R', 'T', 'A', 'T', 'L', 'W', 'T', 'A', 'L', 'A', 'A', 'L', 'R', 'L', 'A', 'T', 'L', 'T', 'T', 'W', 'A', 'A', 'R', 'W', 'R', 'T', 'L', 'T', 'T', 'W', 'A', 'T', 'L', 'L', 'T', 'L', 'A', 'A', 'W', 'R', 'T', 'W', 'W', 'R', 'R', 'A', 'T', 'L', 'L', 'A', 'R', 'W', 'T', 'L', 'L', 'W', 'W', 'L', 'T', 'A', 'A', 'L', 'L', 'W', 'W', 'R', 'T', 'L', 'A', 'A', 'T', 'R', 'T', 'T', 'A', 'W', 'W', 'T', 'R', 'R', 'T', 'L', 'A', 'T', 'A', 'L', 'A', 'L', 'A', 'R', 'L', 'T', 'W', 'A', 'T', 'L', 'T', 'R', 'A', 'W', 'L', 'W', 'R', 'L', 'L', 'T', 'R', 'W', 'L', 'R', 'T', 'T', 'T', 'L', 'W', 'L', 'L', 'W', 'A', 'A', 'T', 'W', 'R', 'R', 'R', 'L', 'R', 'A', 'A', 'T', 'W', 'T', 'A', 'W', 'L', 'R', 'T', 'W', 'R', 'L', 'W', 'L', 'A', 'R', 'W', 'R', 'T', 'T', 'L', 'T', 'T', 'R', 'R', 'T', 'R', 'R', 'L', 'T', 'W', 'R', 'W', 'L', 'R', 'L', 'W', 'T', 'T', 'T', 'L', 'T', 'A', 'L', 'W', 'A', 'L', 'R', 'W', 'T', 'R', 'W', 'A', 'T', 'L', 'L', 'L', 'L', 'T', 'A', 'T', 'A', 'L', 'L', 'T', 'L', 'A', 'L', 'R', 'A', 'A', 'L', 'R', 'W', 'R', 'A', 'T', 'L', 'L', 'R', 'W', 'R', 'R', 'W', 'R', 'A', 'A', 'W', 'L', 'R', 'A', 'W', 'L', 'L', 'R', 'L', 'L', 'W', 'L', 'A', 'T', 'T', 'R', 'T', 'A', 'R', 'A', 'W', 'R', 'T', 'W', 'L', 'T', 'W', 'W', 'W', 'W', 'W', 'T', 'W', 'W', 'L', 'L', 'T', 'L', 'L', 'T', 'A', 'A', 'T', 'L', 'R', 'T', 'A', 'L', 'T', 'T', 'W', 'L', 'T', 'A', 'L', 'A', 'T', 'L', 'R', 'L', 'W', 'W', 'R', 'R', 'T', 'T', 'R', 'L', 'T', 'W', 'R', 'W', 'A', 'L', 'A', 'T', 'L', 'W', 'W', 'W', 'R', 'R', 'W', 'W', 'L', 'W', 'W', 'L', 'R', 'A', 'T', 'A', 'T', 'W', 'A', 'L', 'T', 'L', 'L', 'R', 'A', 'T', 'R', 'A', 'L', 'T', 'T', 'A', 'T', 'W', 'T', 'W', 'R', 'L', 'L', 'L', 'W', 'R', 'W', 'A', 'R', 'T', 'L', 'A', 'W', 'A', 'A', 'T', 'A', 'A', 'L', 'L', 'L', 'L', 'W', 'R', 'L', 'W', 'W', 'R', 'R', 'W', 'L', 'A', 'R', 'T', 'A', 'A', 'A', 'W', 'L', 'W', 'W', 'A', 'W', 'R', 'L', 'R', 'W', 'T', 'L', 'R', 'W', 'A', 'W', 'A', 'W', 'L', 'L', 'W', 'W', 'L', 'A', 'R', 'A', 'W', 'R', 'L', 'A', 'W', 'L', 'T', 'L', 'R', 'R', 'R', 'R', 'A', 'W', 'A', 'T', 'R', 'R', 'L', 'R', 'L', 'R', 'L', 'A', 'L', 'W', 'L', 'L', 'L', 'R', 'W', 'R', 'T', 'A', 'R', 'L', 'R', 'T', 'T', 'A', 'T', 'T', 'T', 'R', 'T', 'A', 'L', 'L', 'A', 'T', 'T', 'A', 'L', 'A', 'T', 'A', 'W', 'T', 'W', 'R', 'L', 'T', 'T', 'L', 'L', 'R', 'W', 'L', 'A', 'L', 'A', 'R', 'T', 'W', 'L', 'L', 'A', 'T', 'A', 'A', 'A', 'W', 'W', 'W', 'L', 'W', 'R', 'L', 'L', 'T', 'W', 'A', 'A', 'A', 'R', 'A', 'L', 'R', 'R', 'W', 'A', 'W', 'W', 'L', 'W', 'L', 'R', 'R', 'W', 'T', 'W', 'L', 'R', 'W', 'W', 'A', 'L', 'A', 'R', 'L', 'W', 'L', 'W', 'A', 'A', 'R', 'L', 'R', 'R', 'L', 'A', 'T', 'L', 'W', 'W', 'R', 'R', 'L', 'L', 'R', 'T', 'R', 'R', 'A', 'R', 'A', 'W', 'W', 'L', 'L', 'A', 'L', 'L', 'R', 'T', 'L', 'W', 'R', 'T', 'A', 'T', 'T', 'R', 'L', 'A', 'R', 'T', 'R', 'L', 'A', 'L', 'T', 'T', 'A', 'L', 'A', 'T', 'T', 'A', 'R', 'L', 'R', 'A', 'A', 'A', 'L', 'R', 'R', 'W', 'L', 'L', 'R', 'W', 'A', 'T', 'R', 'A', 'W', 'L', 'A', 'R', 'W', 'A', 'R', 'L', 'W', 'R', 'L', 'L', 'L', 'L', 'W', 'A', 'R', 'T', 'A', 'T', 'T', 'R', 'A', 'W', 'T', 'W', 'W', 'T', 'W', 'W', 'L', 'W', 'W', 'R', 'T', 'A', 'A', 'T', 'T', 'L', 'L', 'T', 'L', 'W', 'W', 'L', 'T', 'T', 'L', 'A', 'T', 'R', 'L', 'L', 'T', 'A', 'A', 'L', 'T', 'W', 'R', 'R', 'L', 'W', 'W', 'L', 'R', 'R', 'T', 'T', 'L', 'A', 'W', 'A', 'W', 'T', 'R', 'L', 'L', 'W', 'W', 'R', 'R', 'W', 'L', 'T', 'W', 'W', 'A', 'W', 'T', 'R', 'A', 'T', 'W', 'W', 'L', 'L', 'A', 'R', 'A', 'T', 'L', 'T', 'L', 'R', 'A', 'A', 'A', 'L', 'L', 'L', 'T', 'A', 'T', 'W', 'W', 'L', 'W', 'A', 'W', 'T', 'L', 'A', 'T', 'T', 'A', 'L', 'R', 'R', 'T', 'W', 'L', 'R', 'R', 'W', 'W', 'A', 'W', 'L', 'T', 'W', 'T', 'W', 'L', 'R', 'W', 'A', 'W', 'T', 'T', 'L', 'A', 'R', 'R', 'L', 'R', 'T', 'L', 'R', 'R', 'A', 'T', 'W', 'A', 'R', 'R', 'W', 'A', 'A', 'W', 'R', 'L', 'R', 'A', 'L', 'R', 'A', 'W', 'W', 'A', 'T', 'A', 'A', 'T', 'L', 'W', 'T', 'T', 'T', 'W', 'A', 'T', 'R', 'R', 'A', 'W', 'A', 'A', 'R', 'W', 'T', 'R', 'T', 'R', 'R', 'T', 'A', 'A', 'T', 'A', 'W', 'L', 'T', 'R', 'A', 'W', 'R', 'L', 'W', 'L', 'T', 'W', 'L', 'A', 'L', 'W', 'R', 'R', 'A', 'L', 'R', 'A', 'W', 'R', 'A', 'W', 'T', 'A', 'R', 'W', 'L', 'L', 'W', 'L', 'A', 'T', 'L', 'A', 'A', 'T', 'L', 'L', 'R', 'W', 'R', 'T', 'L', 'T', 'A', 'W', 'L', 'A', 'T', 'R', 'A', 'L', 'R', 'R', 'L', 'L', 'L', 'A', 'A', 'T', 'T', 'W', 'L', 'W', 'A', 'A', 'A', 'T', 'L', 'T', 'A', 'A', 'L', 'T', 'R', 'T', 'A', 'W', 'R', 'T', 'R', 'L', 'A', 'A', 'R', 'T', 'W', 'L', 'L', 'L', 'W', 'L', 'A', 'T', 'A', 'T', 'W', 'R', 'T', 'T', 'R', 'L', 'T', 'L', 'T', 'R', 'T', 'A', 'W', 'A', 'R', 'W', 'A', 'T', 'A', 'R', 'W', 'A', 'W', 'R', 'L', 'L', 'A', 'R', 'T', 'W', 'L', 'R', 'A', 'T', 'R', 'A', 'A', 'T', 'R', 'A', 'W', 'L', 'R', 'T', 'L', 'L', 'L', 'L', 'W', 'R', 'A', 'T', 'W', 'A', 'W', 'R', 'A', 'A', 'L', 'A', 'L', 'T', 'W', 'R', 'T', 'L', 'W', 'R', 'L', 'T', 'R', 'R', 'L', 'T', 'A', 'R', 'L', 'W', 'L', 'A', 'L', 'T', 'A', 'L', 'W', 'T', 'A', 'T', 'L', 'L', 'A', 'A', 'A', 'L', 'L', 'T', 'A', 'A', 'T', 'W', 'A', 'A', 'R', 'W', 'T', 'T', 'R', 'T', 'L', 'W', 'R', 'T', 'L', 'A', 'A', 'R', 'W', 'L', 'L', 'R', 'T', 'W', 'A', 'A', 'T', 'L', 'T', 'L', 'T', 'T', 'R', 'T', 'L', 'A', 'A', 'W', 'R', 'T', 'A', 'A', 'W', 'R', 'T', 'W', 'R', 'A', 'L', 'A', 'L', 'R', 'W', 'T', 'R', 'A', 'L', 'R', 'R', 'T', 'W', 'L', 'L', 'R', 'T', 'A', 'L', 'W', 'A', 'R', 'T', 'A', 'A', 'T', 'W', 'W', 'L', 'T', 'L', 'A', 'A', 'L', 'T', 'L', 'A', 'T', 'T', 'W', 'A', 'A', 'L', 'L', 'W', 'L', 'W', 'T', 'R', 'R', 'L', 'W', 'W', 'A', 'R', 'W', 'R', 'R', 'W', 'W', 'L', 'W', 'T', 'T', 'R', 'L', 'T', 'R', 'A', 'L', 'R', 'L', 'T', 'A', 'T', 'W', 'W', 'T', 'A', 'A', 'R', 'R', 'L', 'A', 'A', 'W', 'R', 'R', 'R', 'W', 'A', 'T', 'A', 'R', 'A', 'R', 'L', 'W', 'W', 'W', 'A', 'T', 'T', 'W', 'L', 'T', 'A', 'A', 'T', 'A', 'R', 'W', 'A', 'W', 'A', 'T', 'R', 'R', 'R', 'R', 'R', 'T', 'T', 'A', 'A', 'T', 'W', 'L', 'R', 'T', 'A', 'T', 'A', 'L', 'L', 'T', 'W', 'R', 'L', 'W', 'W', 'R', 'R', 'L', 'A', 'W', 'R', 'A', 'L', 'A', 'T', 'W', 'T', 'L', 'A', 'W', 'R', 'R', 'R', 'T', 'L', 'A', 'W', 'L', 'R', 'A', 'A', 'W', 'L', 'W', 'R', 'R', 'A', 'L', 'T', 'W', 'W', 'L', 'W', 'A', 'A', 'L', 'L', 'T', 'L', 'T', 'R', 'L', 'R', 'W', 'R', 'R', 'R', 'L', 'W', 'T', 'R', 'W', 'A', 'W', 'L', 'L', 'L', 'W', 'L', 'T', 'W', 'T', 'A', 'T', 'W', 'A', 'R', 'R', 'L', 'L', 'W', 'L', 'T', 'L', 'W', 'R', 'L', 'T', 'W', 'A', 'R', 'R', 'T', 'T', 'A', 'A', 'T', 'L', 'A', 'L', 'T', 'R', 'R', 'T', 'T', 'W', 'W', 'L', 'R', 'W', 'W', 'A', 'W', 'T', 'L', 'A', 'R', 'R', 'W', 'T', 'L', 'L', 'W', 'A', 'T', 'W', 'T', 'W', 'W', 'T', 'L', 'L', 'R', 'L', 'R', 'L', 'W', 'T', 'T', 'T', 'A', 'W', 'T', 'A', 'A', 'T', 'R', 'L', 'A', 'A', 'W', 'A', 'R', 'T', 'T', 'L', 'A', 'T', 'T', 'R', 'A', 'W', 'T', 'T', 'W', 'A', 'A', 'L', 'T', 'R', 'W', 'T', 'W', 'W', 'W', 'A', 'A', 'W', 'A', 'T', 'R', 'A', 'A', 'A', 'R', 'R', 'R', 'W', 'L', 'R', 'T', 'R', 'R', 'A', 'W', 'R', 'L', 'W', 'A', 'W', 'T', 'L', 'R', 'W', 'W', 'L', 'T', 'L', 'W', 'W', 'L', 'T', 'L', 'W', 'L', 'A', 'L', 'W', 'L', 'R', 'R', 'W', 'L', 'R', 'W', 'L', 'A', 'T', 'W', 'A', 'R', 'R', 'L', 'L', 'T', 'W', 'R', 'R', 'A', 'R', 'W', 'W', 'T', 'R', 'A', 'R', 'A', 'L', 'L', 'A', 'R', 'R', 'R', 'A', 'W', 'A', 'R', 'A', 'L', 'W', 'R', 'A', 'L', 'A', 'A', 'A', 'T', 'T', 'W', 'A', 'T', 'L', 'T', 'A', 'W', 'A', 'T', 'R', 'R', 'T', 'L', 'A', 'T', 'R', 'T', 'A', 'R', 'W', 'T', 'A', 'A', 'L', 'W', 'A', 'T', 'T', 'W', 'A', 'W', 'A', 'W', 'W', 'T', 'R', 'R', 'A', 'A', 'R', 'W', 'A', 'A', 'R', 'T', 'R', 'A', 'R', 'T', 'L', 'R', 'W', 'R', 'T', 'W', 'L', 'L', 'A', 'W', 'W', 'R', 'L', 'T', 'L', 'T', 'W', 'W', 'L', 'W', 'W', 'R', 'L', 'L', 'W', 'R', 'A', 'L', 'W', 'L', 'A', 'R', 'L', 'W', 'W', 'L', 'T', 'W', 'R', 'L', 'R', 'L', 'R', 'T', 'A', 'W', 'R', 'R', 'A', 'A', 'L', 'L', 'R', 'A', 'R', 'A', 'W', 'W', 'T', 'R', 'A', 'R', 'L', 'A', 'A', 'W', 'R', 'R', 'A', 'A', 'L', 'R', 'W', 'W', 'A', 'L', 'T', 'W', 'T', 'W', 'L', 'L', 'T', 'A', 'R', 'R', 'R', 'R', 'W', 'L', 'R', 'A', 'W', 'R', 'A', 'A', 'L', 'L', 'W', 'W', 'L', 'A', 'T', 'W', 'A', 'L', 'L', 'T', 'W', 'R', 'T', 'R', 'L', 'L', 'R', 'R', 'R', 'W', 'A', 'R', 'W', 'T', 'T', 'W', 'L', 'L', 'W', 'L', 'L', 'W', 'R', 'R', 'A', 'T', 'T', 'A', 'W', 'W', 'L', 'T', 'L', 'W', 'L', 'L', 'T', 'T', 'A', 'A', 'L', 'T', 'R', 'R', 'A', 'W', 'T', 'R', 'T', 'T', 'W', 'R', 'R', 'T', 'L', 'A', 'L', 'W', 'W', 'W', 'A', 'R', 'W', 'L', 'W', 'T', 'T', 'L', 'L', 'W', 'A', 'R', 'R', 'T', 'W', 'T', 'A', 'L', 'R', 'W', 'L', 'T', 'L', 'L', 'R', 'W', 'W', 'L', 'T', 'T', 'R', 'A', 'W', 'A', 'T', 'A', 'R', 'R', 'W', 'T', 'R', 'L', 'A', 'R', 'W', 'L', 'A', 'R', 'R', 'T', 'A', 'T', 'R', 'L', 'T', 'A', 'T', 'T', 'R', 'R', 'A', 'L', 'A', 'T', 'T', 'W', 'R', 'R', 'T', 'A', 'T', 'T', 'W', 'R', 'L', 'A', 'W', 'R', 'A', 'W', 'W', 'A', 'T', 'L', 'W', 'L', 'A', 'T', 'L', 'W', 'L', 'T', 'W', 'T', 'W', 'A', 'A', 'R', 'T', 'T', 'R', 'L', 'L', 'R', 'L', 'L', 'T', 'L', 'L', 'T', 'R', 'R', 'T', 'T', 'A', 'T', 'T', 'T', 'R', 'W', 'T', 'R', 'T', 'L', 'W', 'A', 'R', 'W', 'A', 'A', 'W', 'L', 'W', 'T', 'T', 'A', 'T', 'A', 'R', 'A', 'L', 'R', 'L', 'T', 'L', 'T', 'W', 'W', 'R', 'T', 'W', 'W', 'T', 'A', 'A', 'W', 'L', 'W', 'R', 'T', 'A', 'T', 'L', 'L', 'T', 'W', 'A', 'W', 'A', 'R', 'R', 'A', 'A', 'T', 'A', 'R', 'A', 'W', 'L', 'R', 'W', 'R', 'T', 'A', 'T', 'W', 'W', 'T', 'R', 'T', 'R', 'R', 'L', 'R', 'T', 'W', 'L', 'W', 'W', 'W', 'A', 'L', 'R', 'R', 'A', 'A', 'A', 'T', 'W', 'T', 'L', 'W', 'W', 'R', 'A', 'W', 'T', 'A', 'T', 'W', 'R', 'R', 'T', 'L', 'R', 'R', 'L', 'L', 'R', 'L', 'L', 'L', 'W', 'R', 'L', 'W', 'R', 'R', 'T', 'W', 'R', 'A', 'T', 'T', 'T', 'A', 'L', 'A', 'T', 'R', 'A', 'T', 'R', 'W', 'L', 'T', 'T', 'W', 'L', 'A', 'L', 'T', 'W', 'L', 'W', 'T', 'A', 'T', 'A', 'L', 'L', 'L', 'T', 'W', 'L', 'A', 'A', 'A', 'L', 'L', 'A', 'W', 'A', 'W', 'T', 'L', 'L', 'R', 'W', 'T', 'T', 'A', 'R', 'R', 'A', 'A', 'W', 'R', 'A', 'A', 'A', 'T', 'A', 'T', 'R', 'L', 'W', 'R', 'W', 'R', 'T', 'W', 'W', 'T', 'A', 'W', 'W', 'L', 'W', 'T', 'R', 'L', 'T', 'R', 'R', 'W', 'W', 'T', 'L', 'T', 'W', 'L', 'A', 'W', 'R', 'A', 'A', 'R', 'A', 'R', 'W', 'A', 'T', 'T', 'A', 'R', 'W', 'L', 'W', 'R', 'L', 'R', 'L', 'T', 'R', 'R', 'R', 'L', 'L', 'L', 'W', 'T', 'L', 'W', 'R', 'R', 'A', 'L', 'T', 'T', 'T', 'R', 'A', 'T', 'T', 'L', 'A', 'R', 'T', 'W', 'T', 'A', 'R', 'A', 'L', 'W', 'L', 'A', 'T', 'A', 'W', 'L', 'W', 'T', 'L', 'T', 'L', 'A', 'A', 'A', 'L', 'L', 'L', 'W', 'T', 'A', 'T', 'A', 'A', 'W', 'T', 'R', 'A', 'R', 'R', 'A', 'L', 'W', 'T', 'W', 'L', 'R', 'R', 'R', 'T', 'R', 'T', 'L', 'T', 'A', 'R', 'T', 'A', 'L', 'A', 'A', 'R', 'R', 'T', 'T', 'W', 'T', 'R', 'L', 'T', 'A', 'R', 'T', 'R', 'T', 'W', 'W', 'W', 'R', 'A', 'A', 'W', 'T', 'T', 'W', 'W', 'A', 'T', 'L', 'W', 'L', 'W', 'L', 'A', 'T', 'L', 'R', 'A', 'A', 'L', 'T', 'R', 'L', 'L', 'R', 'L', 'T', 'T', 'L', 'L', 'A', 'T', 'T', 'R', 'T', 'T', 'T', 'R', 'T', 'W', 'R', 'T', 'T', 'R', 'W', 'A', 'L', 'W', 'A', 'A', 'R', 'L', 'W', 'T', 'A', 'T', 'W', 'T', 'T', 'W', 'L', 'L', 'T', 'L', 'A', 'R', 'A', 'R', 'T', 'W', 'R', 'T', 'W', 'W']\n"
     ]
    }
   ],
   "source": [
    "print(labels)\n",
    "print(true_labels)"
   ]
  },
  {
   "cell_type": "code",
   "execution_count": 430,
   "metadata": {},
   "outputs": [
    {
     "name": "stdout",
     "output_type": "stream",
     "text": [
      "22.2\n"
     ]
    }
   ],
   "source": [
    "acc = 0\n",
    "for i in range(4000):\n",
    "    if labels[i] == true_labels[i]:\n",
    "        acc += 1\n",
    "\n",
    "print(acc/4000 * 100)"
   ]
  }
 ],
 "metadata": {
  "kernelspec": {
   "display_name": "Python 3 (ipykernel)",
   "language": "python",
   "name": "python3"
  },
  "language_info": {
   "codemirror_mode": {
    "name": "ipython",
    "version": 3
   },
   "file_extension": ".py",
   "mimetype": "text/x-python",
   "name": "python",
   "nbconvert_exporter": "python",
   "pygments_lexer": "ipython3",
   "version": "3.11.2"
  },
  "orig_nbformat": 4,
  "vscode": {
   "interpreter": {
    "hash": "aee8b7b246df8f9039afb4144a1f6fd8d2ca17a180786b69acc140d282b71a49"
   }
  }
 },
 "nbformat": 4,
 "nbformat_minor": 2
}
