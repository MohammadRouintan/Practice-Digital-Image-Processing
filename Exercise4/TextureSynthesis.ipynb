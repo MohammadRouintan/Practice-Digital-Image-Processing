{
 "cells": [
  {
   "attachments": {},
   "cell_type": "markdown",
   "metadata": {},
   "source": [
    "# Texture Synthesis\n",
    "__Author__ : Mohammad Rouintan , 400222042\n",
    "\n",
    "__Course__ : Undergraduate Digital Image Processing Course"
   ]
  },
  {
   "cell_type": "code",
   "execution_count": 1,
   "metadata": {},
   "outputs": [],
   "source": [
    "import numpy as np\n",
    "import cv2\n",
    "import matplotlib.pyplot as plt"
   ]
  },
  {
   "cell_type": "code",
   "execution_count": null,
   "metadata": {},
   "outputs": [],
   "source": [
    "import numpy as np\n",
    "from skimage import io, segmentation, color\n",
    "from skimage.future import graph\n",
    "\n",
    "# Load the input texture\n",
    "img = io.imread('input_texture.png')\n",
    "\n",
    "# Set the block size\n",
    "block_size = 50\n",
    "\n",
    "# Compute the texture descriptors for each block\n",
    "blocks = segmentation.view_as_blocks(img, (block_size, block_size, img.shape[2]))\n",
    "descriptors = []\n",
    "for block in blocks.flatten():\n",
    "    # Compute the local binary pattern descriptor for each block\n",
    "    lbp = feature.local_binary_pattern(color.rgb2gray(block), 8, 1, method='uniform')\n",
    "    hist, _ = np.histogram(lbp.ravel(), bins=np.arange(0, 10), density=True)\n",
    "    descriptors.append(hist)\n",
    "\n",
    "# Compute the pairwise dissimilarity scores between all blocks\n",
    "dissimilarity = np.zeros((blocks.shape[0] * blocks.shape[1], blocks.shape[0] * blocks.shape[1]))\n",
    "for i in range(blocks.shape[0] * blocks.shape[1]):\n",
    "    for j in range(i + 1, blocks.shape[0] * blocks.shape[1]):\n",
    "        dissimilarity[i, j] = np.sum(np.abs(descriptors[i] - descriptors[j]))\n",
    "        dissimilarity[j, i] = dissimilarity[i, j]\n",
    "\n",
    "# Construct the graph\n",
    "graph = graph.RAG(dissimilarity)\n",
    "\n",
    "# Find the minimum cut\n",
    "labels = graph.cut_normalized()\n",
    "\n",
    "# Merge the blocks using the minimum cut\n",
    "merged = color.label2rgb(labels.reshape(blocks.shape[:2]), img, kind='avg')\n",
    "\n",
    "# Save the output texture\n",
    "io.imsave('output_texture.png', merged)"
   ]
  }
 ],
 "metadata": {
  "kernelspec": {
   "display_name": "Python 3 (ipykernel)",
   "language": "python",
   "name": "python3"
  },
  "language_info": {
   "codemirror_mode": {
    "name": "ipython",
    "version": 3
   },
   "file_extension": ".py",
   "mimetype": "text/x-python",
   "name": "python",
   "nbconvert_exporter": "python",
   "pygments_lexer": "ipython3",
   "version": "3.11.2"
  },
  "orig_nbformat": 4,
  "vscode": {
   "interpreter": {
    "hash": "aee8b7b246df8f9039afb4144a1f6fd8d2ca17a180786b69acc140d282b71a49"
   }
  }
 },
 "nbformat": 4,
 "nbformat_minor": 2
}
